{
 "cells": [
  {
   "cell_type": "code",
   "execution_count": 16,
   "metadata": {},
   "outputs": [],
   "source": [
    "import os\n",
    "import pandas as pd\n",
    "import db_dtypes\n",
    "import pyarrow as pa\n",
    "import pyarrow.parquet as pq"
   ]
  },
  {
   "cell_type": "code",
   "execution_count": 2,
   "metadata": {},
   "outputs": [],
   "source": [
    "os.environ[\"GOOGLE_APPLICATION_CREDENTIALS\"] = '/Users/alejandrogiraldoh/Downloads/mymoneyapp-367411-9b9c5c3455d8.json'"
   ]
  },
  {
   "cell_type": "code",
   "execution_count": 3,
   "metadata": {},
   "outputs": [],
   "source": [
    "from google.cloud import bigquery"
   ]
  },
  {
   "cell_type": "code",
   "execution_count": 4,
   "metadata": {},
   "outputs": [],
   "source": [
    "client = bigquery.Client()"
   ]
  },
  {
   "cell_type": "code",
   "execution_count": 5,
   "metadata": {},
   "outputs": [],
   "source": [
    "dataset_ref = client.dataset(\"stackoverflow\", project=\"bigquery-public-data\")\n",
    "# API request - fetch the dataset\n",
    "dataset = client.get_dataset(dataset_ref)"
   ]
  },
  {
   "cell_type": "code",
   "execution_count": 6,
   "metadata": {},
   "outputs": [
    {
     "name": "stdout",
     "output_type": "stream",
     "text": [
      "badges\n",
      "comments\n",
      "post_history\n",
      "post_links\n",
      "posts_answers\n",
      "posts_moderator_nomination\n",
      "posts_orphaned_tag_wiki\n",
      "posts_privilege_wiki\n",
      "posts_questions\n",
      "posts_tag_wiki\n",
      "posts_tag_wiki_excerpt\n",
      "posts_wiki_placeholder\n",
      "stackoverflow_posts\n",
      "tags\n",
      "users\n",
      "votes\n"
     ]
    }
   ],
   "source": [
    "# Show all the tables in the Stack OverFlow dataset\n",
    "tables = list(client.list_tables(dataset))\n",
    "\n",
    "# Print names of all tables in the dataset\n",
    "for table in tables:  \n",
    "    print(table.table_id)"
   ]
  },
  {
   "cell_type": "code",
   "execution_count": 7,
   "metadata": {},
   "outputs": [],
   "source": [
    "# Construct a reference to the \"badges\" table\n",
    "table_ref = dataset_ref.table(\"posts_questions\")\n",
    "\n",
    "# API request - fetch the table\n",
    "table = client.get_table(table_ref)"
   ]
  },
  {
   "cell_type": "code",
   "execution_count": 8,
   "metadata": {},
   "outputs": [
    {
     "data": {
      "text/plain": [
       "[SchemaField('id', 'INTEGER', 'NULLABLE', None, None, (), None),\n",
       " SchemaField('title', 'STRING', 'NULLABLE', None, None, (), None),\n",
       " SchemaField('body', 'STRING', 'NULLABLE', None, None, (), None),\n",
       " SchemaField('accepted_answer_id', 'INTEGER', 'NULLABLE', None, None, (), None),\n",
       " SchemaField('answer_count', 'INTEGER', 'NULLABLE', None, None, (), None),\n",
       " SchemaField('comment_count', 'INTEGER', 'NULLABLE', None, None, (), None),\n",
       " SchemaField('community_owned_date', 'TIMESTAMP', 'NULLABLE', None, None, (), None),\n",
       " SchemaField('creation_date', 'TIMESTAMP', 'NULLABLE', None, None, (), None),\n",
       " SchemaField('favorite_count', 'INTEGER', 'NULLABLE', None, None, (), None),\n",
       " SchemaField('last_activity_date', 'TIMESTAMP', 'NULLABLE', None, None, (), None),\n",
       " SchemaField('last_edit_date', 'TIMESTAMP', 'NULLABLE', None, None, (), None),\n",
       " SchemaField('last_editor_display_name', 'STRING', 'NULLABLE', None, None, (), None),\n",
       " SchemaField('last_editor_user_id', 'INTEGER', 'NULLABLE', None, None, (), None),\n",
       " SchemaField('owner_display_name', 'STRING', 'NULLABLE', None, None, (), None),\n",
       " SchemaField('owner_user_id', 'INTEGER', 'NULLABLE', None, None, (), None),\n",
       " SchemaField('parent_id', 'STRING', 'NULLABLE', None, None, (), None),\n",
       " SchemaField('post_type_id', 'INTEGER', 'NULLABLE', None, None, (), None),\n",
       " SchemaField('score', 'INTEGER', 'NULLABLE', None, None, (), None),\n",
       " SchemaField('tags', 'STRING', 'NULLABLE', None, None, (), None),\n",
       " SchemaField('view_count', 'INTEGER', 'NULLABLE', None, None, (), None)]"
      ]
     },
     "execution_count": 8,
     "metadata": {},
     "output_type": "execute_result"
    }
   ],
   "source": [
    "# Print information on all the columns in the \"badges\" table in the \"Stack Overflow\" dataset\n",
    "table.schema"
   ]
  },
  {
   "cell_type": "code",
   "execution_count": null,
   "metadata": {},
   "outputs": [
    {
     "name": "stderr",
     "output_type": "stream",
     "text": [
      "/Users/alejandrogiraldoh/dev/daverse/stack-overflow-analytics/.venv/lib/python3.12/site-packages/google/cloud/bigquery/table.py:1727: UserWarning: BigQuery Storage module not found, fetch data with the REST endpoint instead.\n",
      "  warnings.warn(\n"
     ]
    }
   ],
   "source": [
    "table = \"tags\"\n",
    "query = f\"select * from bigquery-public-data.stackoverflow.{table}\"\n",
    "\n",
    "df = client.query(query).to_dataframe()"
   ]
  },
  {
   "cell_type": "code",
   "execution_count": 13,
   "metadata": {},
   "outputs": [
    {
     "name": "stdout",
     "output_type": "stream",
     "text": [
      "<class 'pandas.core.frame.DataFrame'>\n",
      "RangeIndex: 63653 entries, 0 to 63652\n",
      "Data columns (total 5 columns):\n",
      " #   Column           Non-Null Count  Dtype \n",
      "---  ------           --------------  ----- \n",
      " 0   id               63653 non-null  Int64 \n",
      " 1   tag_name         63653 non-null  object\n",
      " 2   count            63653 non-null  Int64 \n",
      " 3   excerpt_post_id  44966 non-null  Int64 \n",
      " 4   wiki_post_id     44966 non-null  Int64 \n",
      "dtypes: Int64(4), object(1)\n",
      "memory usage: 2.7+ MB\n"
     ]
    }
   ],
   "source": [
    "df.info()"
   ]
  },
  {
   "cell_type": "code",
   "execution_count": 27,
   "metadata": {},
   "outputs": [],
   "source": [
    "table = pa.Table.from_pandas(df)\n",
    "pq.write_table(table, 'example.parquet', compression='snappy', row_group_size=100000)"
   ]
  },
  {
   "cell_type": "code",
   "execution_count": null,
   "metadata": {},
   "outputs": [],
   "source": [
    "import boto3\n",
    "\n",
    "# Instantiate AWS client for S3\n",
    "session = boto3.Session(profile_name=\"daverse-dev\")\n",
    "s3_client = session.client(\"s3\")\n"
   ]
  },
  {
   "cell_type": "code",
   "execution_count": 36,
   "metadata": {},
   "outputs": [
    {
     "name": "stdout",
     "output_type": "stream",
     "text": [
      "Buckets: ['almadosreiss-dev-product-images', 'cdk-hnb659fds-assets-992382719587-us-east-1']\n"
     ]
    }
   ],
   "source": [
    "# Example: List the buckets to verify the client works\n",
    "buckets = s3_client.list_buckets()\n",
    "print(\"Buckets:\", [bucket[\"Name\"] for bucket in buckets[\"Buckets\"]])"
   ]
  },
  {
   "cell_type": "code",
   "execution_count": 41,
   "metadata": {},
   "outputs": [
    {
     "data": {
      "text/plain": [
       "{'ResponseMetadata': {'RequestId': 'BND23BTZ3GQR1Q75',\n",
       "  'HostId': 'i6N/Bn6VTBrpUqyJ3XvbYzI/P5Ra0kB7QwTEgFA6osWQrHVMdb9F4RD3APK5ocExSEeN4chgo7Q=',\n",
       "  'HTTPStatusCode': 200,\n",
       "  'HTTPHeaders': {'x-amz-id-2': 'i6N/Bn6VTBrpUqyJ3XvbYzI/P5Ra0kB7QwTEgFA6osWQrHVMdb9F4RD3APK5ocExSEeN4chgo7Q=',\n",
       "   'x-amz-request-id': 'BND23BTZ3GQR1Q75',\n",
       "   'date': 'Fri, 15 Nov 2024 00:38:58 GMT',\n",
       "   'location': '/stackoverflow-analytics-datasets',\n",
       "   'content-length': '0',\n",
       "   'server': 'AmazonS3'},\n",
       "  'RetryAttempts': 0},\n",
       " 'Location': '/stackoverflow-analytics-datasets'}"
      ]
     },
     "execution_count": 41,
     "metadata": {},
     "output_type": "execute_result"
    }
   ],
   "source": [
    "# Create AWS S3 bucket\n",
    "region = 'us-east-1'\n",
    "s3_client.create_bucket(Bucket='stackoverflow-analytics-datasets')"
   ]
  },
  {
   "cell_type": "code",
   "execution_count": 45,
   "metadata": {},
   "outputs": [],
   "source": [
    "# Upload file into S3\n",
    "file_name = 'example.parquet'\n",
    "s3_client.upload_file(file_name, 'stackoverflow-analytics-datasets', 'example.parquet')"
   ]
  },
  {
   "cell_type": "code",
   "execution_count": 29,
   "metadata": {},
   "outputs": [
    {
     "name": "stdout",
     "output_type": "stream",
     "text": [
      "<class 'pandas.core.frame.DataFrame'>\n",
      "RangeIndex: 63653 entries, 0 to 63652\n",
      "Data columns (total 5 columns):\n",
      " #   Column           Non-Null Count  Dtype \n",
      "---  ------           --------------  ----- \n",
      " 0   id               63653 non-null  Int64 \n",
      " 1   tag_name         63653 non-null  object\n",
      " 2   count            63653 non-null  Int64 \n",
      " 3   excerpt_post_id  44966 non-null  Int64 \n",
      " 4   wiki_post_id     44966 non-null  Int64 \n",
      "dtypes: Int64(4), object(1)\n",
      "memory usage: 2.7+ MB\n"
     ]
    }
   ],
   "source": [
    "# Read Parquet file\n",
    "parquet_table = pq.read_table('example.parquet')\n",
    "\n",
    "# Convert Parquet table to DataFrame\n",
    "df = parquet_table.to_pandas()\n",
    "df.info()"
   ]
  },
  {
   "cell_type": "code",
   "execution_count": null,
   "metadata": {},
   "outputs": [],
   "source": []
  }
 ],
 "metadata": {
  "kernelspec": {
   "display_name": "Python 3 (ipykernel)",
   "language": "python",
   "name": "python3"
  },
  "language_info": {
   "codemirror_mode": {
    "name": "ipython",
    "version": 3
   },
   "file_extension": ".py",
   "mimetype": "text/x-python",
   "name": "python",
   "nbconvert_exporter": "python",
   "pygments_lexer": "ipython3",
   "version": "3.12.3"
  }
 },
 "nbformat": 4,
 "nbformat_minor": 2
}
